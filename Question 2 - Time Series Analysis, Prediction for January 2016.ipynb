{
 "cells": [
  {
   "cell_type": "code",
   "execution_count": null,
   "metadata": {},
   "outputs": [],
   "source": [
    "# In this session, we carry out a time-series forecasting to predict\n",
    "# the monthly sales in January 2016, by first analyzing the monthly\n",
    "# sales in the years 2013, 2014 and 2015.\n",
    "\n",
    "# Check the project workspace.\n",
    "import os\n",
    "print(\"Project Workspace:\", os.getcwd())\n",
    "print()\n",
    "\n",
    "# Import all necessary packages for the project.\n",
    "import pandas as pan\n",
    "import numpy as np\n",
    "import statistics as myStats\n",
    "import glob as glob\n",
    "from matplotlib import pyplot as plt\n",
    "plt.style.use(\"fivethirtyeight\")\n",
    "import statsmodels.api as myStatsModel\n",
    "from pylab import rcParams\n",
    "rcParams['figure.figsize'] = 18, 8\n",
    "rcParams['text.color'] = 'k'\n",
    "import itertools\n",
    "import warnings\n",
    "warnings.filterwarnings(\"ignore\")\n",
    "import matplotlib\n",
    "from statsmodels.tsa.stattools import adfuller\n",
    "from statsmodels.tsa.stattools import kpss\n",
    "\n",
    "# Revome scientific notation to expand numbers in the dataset up to the\n",
    "# second decimal place.\n",
    "pan.set_option('display.float_format', lambda x: '%.4f' % x)"
   ]
  },
  {
   "cell_type": "code",
   "execution_count": null,
   "metadata": {},
   "outputs": [],
   "source": [
    "# From the \"Sale Date\" data, we get the day, month and date columns for each transaction.\n",
    "def fetchMonthAndYearColumns(dataFile):\n",
    "    dataFile[\"Day\"] = dataFile[\"Sale_Date\"].apply(lambda month: month.split(\"-\")[2])\n",
    "    dataFile[\"Month\"] = dataFile[\"Sale_Date\"].apply(lambda month: month.split(\"-\")[1])\n",
    "    dataFile[\"Year\"] = dataFile[\"Sale_Date\"].apply(lambda year: year.split(\"-\")[0])\n",
    "    dataFile.drop(columns = [\"Sale_Date\"])\n",
    "    return dataFile\n",
    "\n",
    "# From the \"Sale Date\" data, we get the day, month and date columns for each transaction.\n",
    "def aggregateDates(dataFile):\n",
    "    dataFile[\"Sale_Date\"] = pan.to_datetime(dataFile[\"Sale_Date\"])\n",
    "    dataFile = dataFile.groupby(by = [\"Sale_Date\"], as_index = False).agg({\"Item_Value\": \"sum\"}).rename(columns = {\"Item_Value\": \"Total_Sales\"})\n",
    "    return dataFile\n",
    "\n",
    "# Import data for each day and collate the data. For this, we create a function\n",
    "# \"importAndCollate()\".\n",
    "def importAndCollate():\n",
    "    dataFileList = []\n",
    "    yearList = ['2013', '2014', '2015']\n",
    "    for year in yearList:\n",
    "        fileNames = [fileName for fileName in glob.glob(year + \"/*.csv\", recursive = True)]\n",
    "        for fileName in fileNames:\n",
    "            dataFileList.append(pan.read_csv(fileName))\n",
    "    yearDataFile = pan.concat(dataFileList, ignore_index = False)\n",
    "    print(\"Size of Dataset:\", yearDataFile.shape)\n",
    "    print()\n",
    "    return yearDataFile"
   ]
  },
  {
   "cell_type": "code",
   "execution_count": null,
   "metadata": {},
   "outputs": [],
   "source": [
    "# Import all data for a year and collate it in one dataframe.\n",
    "yearDataFile = importAndCollate()"
   ]
  },
  {
   "cell_type": "code",
   "execution_count": null,
   "metadata": {},
   "outputs": [],
   "source": [
    "# Let's aggregate the data over each day to extract the total sales\n",
    "# amount for each day.\n",
    "aggregatedData = aggregateDates(yearDataFile)\n",
    "aggregatedData[\"Sale_Date\"] = pan.to_datetime(aggregatedData[\"Sale_Date\"])\n",
    "aggregatedData = aggregatedData.set_index('Sale_Date')\n",
    "aggregatedData = aggregatedData.resample(\"MS\").mean()"
   ]
  },
  {
   "cell_type": "code",
   "execution_count": null,
   "metadata": {},
   "outputs": [],
   "source": [
    "# Next, we visualize the time series data.\n",
    "aggregatedData.plot(figsize = (15, 6))\n",
    "plt.show()"
   ]
  },
  {
   "cell_type": "code",
   "execution_count": null,
   "metadata": {},
   "outputs": [],
   "source": [
    "# From the two plots, it is evident that there may be a pattern for\n",
    "# the total sales generated over each month. Also, January 2015 seems to have\n",
    "# incomplete data, i.e. it doesn't have records for all days of the month. Just\n",
    "# 17 days. We will need to impute this using time-series analytics.\n",
    "aggregatedData[\"No_of_Days\"] = [31, 28, 31, 30, 31, 30, 31, 31, 30, 31, 30, 31] * 3\n",
    "aggregatedData[\"Total_Sales\"] = aggregatedData[\"Total_Sales\"] * aggregatedData[\"No_of_Days\"]\n",
    "display(aggregatedData)\n",
    "aggregatedData = aggregatedData.drop(columns = [\"No_of_Days\"], axis = 1)\n",
    "figure = aggregatedData.plot(figsize = (15, 6))\n",
    "plt.xlabel(\"Months\")\n",
    "plt.ylabel(\"Total Sales\")\n",
    "plt.show()"
   ]
  },
  {
   "cell_type": "code",
   "execution_count": null,
   "metadata": {},
   "outputs": [],
   "source": [
    "# We need to check the trend, seasonality, and noise in the data.\n",
    "decomposition = myStatsModel.tsa.seasonal_decompose(aggregatedData, model = \"additive\")\n",
    "fig = decomposition.plot()\n",
    "plt.show()"
   ]
  },
  {
   "cell_type": "code",
   "execution_count": null,
   "metadata": {},
   "outputs": [],
   "source": [
    "# Dickey-Fuller Test for Stationarity\n",
    "dftest = adfuller(aggregatedData[\"Total_Sales\"], autolag = \"AIC\")\n",
    "dfoutput = pan.Series(dftest[0:4], index = [\"Test Statistic\", \"p-value\", \"#Lags Used\", \"Number of Observations Used\"])\n",
    "for key, value in dftest[4].items():\n",
    "    dfoutput[\"Critical Value (%s)\"%key] = value\n",
    "print(dfoutput)\n",
    "print()\n",
    "\n",
    "# KPSS Test for Stationarity\n",
    "kpsstest = kpss(aggregatedData[\"Total_Sales\"], regression='c')\n",
    "kpss_output = pan.Series(kpsstest[0:3], index = [\"Test Statistic\", \"p-value\", \"Lags Used\"])\n",
    "for key,value in kpsstest[3].items():\n",
    "    kpss_output[\"Critical Value (%s)\"%key] = value\n",
    "print (kpss_output)\n",
    "print()"
   ]
  },
  {
   "cell_type": "code",
   "execution_count": null,
   "metadata": {},
   "outputs": [],
   "source": [
    "# We can see that the sales follow an upward trend, and are seasonal.\n",
    "# Knowing this, we carry out time series forecasting using ARIMA, \n",
    "# (Auto-Regressive Integrated Moving Average).\n",
    "# ARIMA models are denoted with the notation ARIMA(p, d, q). These three\n",
    "# parameters account for seasonality, trend, and noise in data.\n",
    "p = d = q = range(0, 2)\n",
    "pdq = list(itertools.product(p, d, q))\n",
    "seasonal_pdq = [(x[0], x[1], x[2], 12) for x in list(itertools.product(p, d, q))]\n",
    "\n",
    "for param in pdq:\n",
    "    for param_seasonal in seasonal_pdq:\n",
    "        try:\n",
    "            mod = myStatsModel.tsa.statespace.SARIMAX(aggregatedData,\n",
    "                                            order = param,\n",
    "                                            seasonal_order = param_seasonal,\n",
    "                                            enforce_stationarity = False,\n",
    "                                            enforce_invertibility = False)\n",
    "            results = mod.fit(disp = True)\n",
    "            print('ARIMA{}x{}12 - AIC:{}'.format(param, param_seasonal, results.aic))\n",
    "        except:\n",
    "            continue"
   ]
  },
  {
   "cell_type": "code",
   "execution_count": null,
   "metadata": {},
   "outputs": [],
   "source": [
    "# We see that ARIMA(1, 1, 0)x(1, 1, 0, 12)12 - AIC:197.1350848946603 is the\n",
    "# lowest value, and so we use these parameters to fit the ARIMA model for\n",
    "# forecasting.\n",
    "modelARIMA = myStatsModel.tsa.statespace.SARIMAX(aggregatedData,\n",
    "                                order = (1, 1, 1),\n",
    "                                seasonal_order = (1, 1, 0, 12),\n",
    "                                enforce_stationarity = True,\n",
    "                                enforce_invertibility = False)\n",
    "\n",
    "results = modelARIMA.fit()\n",
    "print(results.summary())\n",
    "results.plot_diagnostics(figsize = (16, 8))\n",
    "plt.show()"
   ]
  },
  {
   "cell_type": "code",
   "execution_count": null,
   "metadata": {},
   "outputs": [],
   "source": [
    "# Now that we've fit our model, let's use it to make predictions.\n",
    "pred = results.get_prediction(start = pan.to_datetime(\"2015-01-01\"), end = pan.to_datetime(\"2015-12-01\"), dynamic = True)\n",
    "pred_ci = pred.conf_int()\n",
    "ax = aggregatedData['2013':].plot(label = \"Observed\")\n",
    "pred.predicted_mean.plot(ax = ax, label = 'One-step ahead Forecast', alpha = .7, figsize = (14, 7))\n",
    "ax.fill_between(pred_ci.index,\n",
    "                pred_ci.iloc[:, 0],\n",
    "                pred_ci.iloc[:, 1], color = 'k', alpha = .2)\n",
    "ax.set_xlabel('Date')\n",
    "ax.set_ylabel('Total Monthly Sales (in Dollars)')\n",
    "plt.legend()\n",
    "plt.show()"
   ]
  },
  {
   "cell_type": "code",
   "execution_count": null,
   "metadata": {},
   "outputs": [],
   "source": [
    "# Use the model to forecast total sales for up to 12 steps ahead in time.\n",
    "pred_uc = results.get_forecast(steps = 12)\n",
    "pred_ci = pred_uc.conf_int()\n",
    "ax = aggregatedData.plot(label = \"Observed\", figsize = (14, 7))\n",
    "pred_uc.predicted_mean.plot(ax = ax, label = \"Forecast\")\n",
    "ax.fill_between(pred_ci.index,\n",
    "                pred_ci.iloc[:, 0],\n",
    "                pred_ci.iloc[:, 1], color = \"k\", alpha = 0.25)\n",
    "ax.set_xlabel(\"Date\")\n",
    "ax.set_ylabel(\"Total Monthly Sales (in Dollars)\")\n",
    "plt.legend()\n",
    "plt.show()"
   ]
  },
  {
   "cell_type": "code",
   "execution_count": null,
   "metadata": {},
   "outputs": [],
   "source": [
    "print(\"Predict Sales in Dollars for 2016:\")\n",
    "display(pred_uc.predicted_mean)\n",
    "print()\n",
    "print(\"Error Margins for Predict Sales in Dollars for 2016:\")\n",
    "display(pred_uc.conf_int())"
   ]
  },
  {
   "cell_type": "code",
   "execution_count": null,
   "metadata": {},
   "outputs": [],
   "source": [
    "predicted = pred.predicted_mean\n",
    "truth = aggregatedData[\"Total_Sales\"][\"2015-01-01\":]\n",
    "mse = ((predicted - truth) ** 2).mean()\n",
    "print('The Mean Squared Error of our forecasts is {}'.format(round(mse, 2)))\n",
    "print()\n",
    "print('The Root Mean Squared Error of our forecasts is {}'.format(round(np.sqrt(mse), 2)))"
   ]
  }
 ],
 "metadata": {
  "kernelspec": {
   "display_name": "Python 3",
   "language": "python",
   "name": "python3"
  },
  "language_info": {
   "codemirror_mode": {
    "name": "ipython",
    "version": 3
   },
   "file_extension": ".py",
   "mimetype": "text/x-python",
   "name": "python",
   "nbconvert_exporter": "python",
   "pygments_lexer": "ipython3",
   "version": "3.7.3"
  }
 },
 "nbformat": 4,
 "nbformat_minor": 2
}
